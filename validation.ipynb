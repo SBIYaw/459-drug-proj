{
 "cells": [
  {
   "cell_type": "code",
   "execution_count": 55,
   "metadata": {},
   "outputs": [],
   "source": [
    "import pandas as pd\n",
    "import numpy as np"
   ]
  },
  {
   "cell_type": "markdown",
   "metadata": {},
   "source": [
    "Drug Overlap between our data and RepoDB"
   ]
  },
  {
   "cell_type": "code",
   "execution_count": 56,
   "metadata": {},
   "outputs": [],
   "source": [
    "repodb_df = pd.read_csv('data/repo_db.csv')\n",
    "repodb_df['drug_name'] = repodb_df['drug_name'].str.lower()"
   ]
  },
  {
   "cell_type": "code",
   "execution_count": 57,
   "metadata": {},
   "outputs": [],
   "source": [
    "ourdata = pd.read_csv('data/drug_riskscores.csv')\n",
    "ourdata['drug'] = ourdata['drug'].str.lower()"
   ]
  },
  {
   "cell_type": "code",
   "execution_count": 58,
   "metadata": {},
   "outputs": [],
   "source": [
    "drug_overlap_repodb = ourdata.join(repodb_df.set_index(['drug_name']), how='inner', on=['drug'], lsuffix='_x', rsuffix='_y')\n",
    "drug_overlap_repodb = drug_overlap_repodb.iloc[: , 1:]\n",
    "#drug_overlap_repodb.to_csv('drug_overlap_repodb.csv')"
   ]
  },
  {
   "cell_type": "markdown",
   "metadata": {},
   "source": [
    "Drug Overlap between our data and BROAD"
   ]
  },
  {
   "cell_type": "code",
   "execution_count": 59,
   "metadata": {},
   "outputs": [],
   "source": [
    "broad_df = pd.read_csv('data/broad_repurp_data_orig.tsv',sep='\\t',header=None)\n",
    "broad_df = broad_df.drop(range(9))\n",
    "\n",
    "new_header = broad_df.iloc[0] \n",
    "broad_df = broad_df[1:]\n",
    "broad_df.columns = new_header\n",
    "\n",
    "broad_df['pert_iname'] = broad_df['pert_iname'].str.lower()"
   ]
  },
  {
   "cell_type": "code",
   "execution_count": 60,
   "metadata": {},
   "outputs": [],
   "source": [
    "drug_overlap_broad = ourdata.join(broad_df.set_index(['pert_iname']), how='inner', on=['drug'], lsuffix='_x', rsuffix='_y')\n",
    "drug_overlap_broad = drug_overlap_broad.iloc[: , 1:]\n",
    "#drug_overlap_broad.to_csv('drug_overlap_broad.csv')\n",
    "#drug_overlap_broad"
   ]
  }
 ],
 "metadata": {
  "interpreter": {
   "hash": "dcacb0086e9a4f4eabd41c33bf4faac5ea0a3337ed3f5eff0680afa930572c04"
  },
  "kernelspec": {
   "display_name": "Python 3.9.7 64-bit",
   "language": "python",
   "name": "python3"
  },
  "language_info": {
   "codemirror_mode": {
    "name": "ipython",
    "version": 3
   },
   "file_extension": ".py",
   "mimetype": "text/x-python",
   "name": "python",
   "nbconvert_exporter": "python",
   "pygments_lexer": "ipython3",
   "version": "3.9.7"
  },
  "orig_nbformat": 4
 },
 "nbformat": 4,
 "nbformat_minor": 2
}
